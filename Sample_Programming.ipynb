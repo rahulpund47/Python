{
  "nbformat": 4,
  "nbformat_minor": 0,
  "metadata": {
    "colab": {
      "name": "Sample_Programming.ipynb",
      "provenance": []
    },
    "kernelspec": {
      "name": "python3",
      "display_name": "Python 3"
    },
    "language_info": {
      "name": "python"
    }
  },
  "cells": [
    {
      "cell_type": "markdown",
      "metadata": {
        "id": "qcmDihk6wTxs"
      },
      "source": [
        "**Program 1**\n",
        "\n",
        "we are having 3 list like this:\n",
        "\n",
        "colors=[\"Yellow\",\"Green\",\"White\",\"Black\"]\n",
        "\n",
        "\n",
        "fruits=[\"Apple\",\"Pappaya\",\"Mango\",\"Orange\"]\n",
        "\n",
        "\n",
        "Animals=[\"Tiger\",\"Lion\",\"Deer\",\"Zebra\"]\n",
        "\n",
        "WAP that ask user to enter a color/fruit/animal name and it should tell which category belongs to ,.. like its a fruit or color or animal"
      ]
    },
    {
      "cell_type": "code",
      "metadata": {
        "colab": {
          "base_uri": "https://localhost:8080/"
        },
        "id": "JlQ_hN1VxMCm",
        "outputId": "f660cfc2-6fa0-4894-d0e6-5e2e9174dca6"
      },
      "source": [
        "# solution\n",
        "\n",
        "data=input(\"Enter fruit/color/animal name\")\n",
        "result=check(data)\n",
        "print(\"Its from \"+result+\" category\")"
      ],
      "execution_count": 3,
      "outputs": [
        {
          "output_type": "stream",
          "text": [
            "Enter fruit/color/animal nameLion\n",
            "Its from Animals category\n"
          ],
          "name": "stdout"
        }
      ]
    },
    {
      "cell_type": "code",
      "metadata": {
        "id": "v7rhHanaxomA"
      },
      "source": [
        "def check(data):\n",
        "  Colors=[\"Yellow\",\"Green\",\"White\",\"Black\"]\n",
        "\n",
        "  Fruits=[\"Apple\",\"Pappaya\",\"Mango\",\"Orange\"]\n",
        "\n",
        "  Animals=[\"Tiger\",\"Lion\",\"Deer\",\"Zebra\"]\n",
        "\n",
        "  if data in Colors:\n",
        "    return \"colors\"\n",
        "  elif data in Fruits:\n",
        "    return \"fruits\"\n",
        "  elif data in Animals:\n",
        "    return \"Animals\"\n",
        "  else:\n",
        "    return \"None of\""
      ],
      "execution_count": 1,
      "outputs": []
    },
    {
      "cell_type": "markdown",
      "metadata": {
        "id": "J3M772tGyj8S"
      },
      "source": [
        "**Program 2**\n",
        "\n",
        "WAP that ask user to enter 2 cities and it tells you if they both are in same country or not.     e.g. If I enter yellow and black, it will print \"Both are colors\" but if I enter yellow and tiger it should print \"they dont belong to same category\""
      ]
    },
    {
      "cell_type": "code",
      "metadata": {
        "colab": {
          "base_uri": "https://localhost:8080/"
        },
        "id": "yNV0rRYSyTBt",
        "outputId": "f41b586a-324b-4c4f-8e2b-6f801bce68fd"
      },
      "source": [
        "# solution\n",
        "\n",
        "data1=input(\"Enter any fruit/color/animal name\")\n",
        "data2=input(\"Enter any fruit/color/animal name\")\n",
        "result=check(data1,data2)\n",
        "if result==2:\n",
        "  print(\"Both are colors\")\n",
        "else:\n",
        "  print(\"they dont belong to same category\")"
      ],
      "execution_count": 5,
      "outputs": [
        {
          "output_type": "stream",
          "text": [
            "Enter any fruit/color/animal nameYellow\n",
            "Enter any fruit/color/animal nameTiger\n",
            "they dont belong to same category\n"
          ],
          "name": "stdout"
        }
      ]
    },
    {
      "cell_type": "code",
      "metadata": {
        "id": "7IQ9sxFJzrSK"
      },
      "source": [
        "def check(data1,dat2):\n",
        "  Colors=[\"Yellow\",\"Green\",\"White\",\"Black\"]\n",
        "\n",
        "  Fruits=[\"Apple\",\"Pappaya\",\"Mango\",\"Orange\"]\n",
        "\n",
        "  Animals=[\"Tiger\",\"Lion\",\"Deer\",\"Zebra\"]\n",
        "\n",
        "  if (data1 in Colors) and (data2 in Colors):\n",
        "    return 2\n",
        "  elif (data1 in Fruits) and (data2 in Fruits):\n",
        "    return 2\n",
        "  elif (data1 in Animals) and (data2 in Animals):\n",
        "    return 2\n",
        "  else:\n",
        "    return 0"
      ],
      "execution_count": 1,
      "outputs": []
    },
    {
      "cell_type": "markdown",
      "metadata": {
        "id": "3oSxIZ8kXRWG"
      },
      "source": [
        "**Program 3**\n",
        "\n",
        "Count how many times pass"
      ]
    },
    {
      "cell_type": "code",
      "metadata": {
        "colab": {
          "base_uri": "https://localhost:8080/"
        },
        "id": "WDN1zdeqWicI",
        "outputId": "efa335b9-ea17-4fea-85d5-0a56621f5876"
      },
      "source": [
        "result=[\"Pass\",\"Fail\",\"Fail\",\"Pass\",\"Fail\",\"Pass\",\"Pass\",\"Fail\",\"Fail\",\"Fail\"]\n",
        "p=0\n",
        "for i in result:\n",
        "  if i==\"Pass\":\n",
        "    p+=1\n",
        "\n",
        "print(p)"
      ],
      "execution_count": 6,
      "outputs": [
        {
          "output_type": "stream",
          "text": [
            "4\n"
          ],
          "name": "stdout"
        }
      ]
    },
    {
      "cell_type": "markdown",
      "metadata": {
        "id": "En_80GHVX8Wz"
      },
      "source": [
        "**Program 4**\n"
      ]
    },
    {
      "cell_type": "code",
      "metadata": {
        "colab": {
          "base_uri": "https://localhost:8080/"
        },
        "id": "-rofKEXiX4EN",
        "outputId": "950ff9a1-ad15-4710-ed3d-6ff61b82f5ec"
      },
      "source": [
        "for i in range(1,6):\n",
        "  print(\"*\"*i)\n",
        "for i in range(4,-1,-1):\n",
        "  print(\"*\"*i)"
      ],
      "execution_count": 9,
      "outputs": [
        {
          "output_type": "stream",
          "text": [
            "*\n",
            "**\n",
            "***\n",
            "****\n",
            "*****\n",
            "****\n",
            "***\n",
            "**\n",
            "*\n",
            "\n"
          ],
          "name": "stdout"
        }
      ]
    },
    {
      "cell_type": "markdown",
      "metadata": {
        "id": "TCUViKGDYyqC"
      },
      "source": [
        "**Program 6**\n",
        "\n",
        "Find out divisible by 7 and multiple of 5 between 1500 to 2700(both included)"
      ]
    },
    {
      "cell_type": "code",
      "metadata": {
        "colab": {
          "base_uri": "https://localhost:8080/"
        },
        "id": "qClZuoZrYwuO",
        "outputId": "140d8255-1ea6-43d7-9b3f-30f9df2ec894"
      },
      "source": [
        "for i in range(1500,2701):\n",
        "  if (i%7==0) and (i%5==0):\n",
        "    print(i,sep=' ')"
      ],
      "execution_count": 11,
      "outputs": [
        {
          "output_type": "stream",
          "text": [
            "1505\n",
            "1540\n",
            "1575\n",
            "1610\n",
            "1645\n",
            "1680\n",
            "1715\n",
            "1750\n",
            "1785\n",
            "1820\n",
            "1855\n",
            "1890\n",
            "1925\n",
            "1960\n",
            "1995\n",
            "2030\n",
            "2065\n",
            "2100\n",
            "2135\n",
            "2170\n",
            "2205\n",
            "2240\n",
            "2275\n",
            "2310\n",
            "2345\n",
            "2380\n",
            "2415\n",
            "2450\n",
            "2485\n",
            "2520\n",
            "2555\n",
            "2590\n",
            "2625\n",
            "2660\n",
            "2695\n"
          ],
          "name": "stdout"
        }
      ]
    },
    {
      "cell_type": "markdown",
      "metadata": {
        "id": "wMxQPyTqZkqA"
      },
      "source": [
        "**Program 7**\n",
        "\n",
        "Find square of 10 to 20 except even number"
      ]
    },
    {
      "cell_type": "code",
      "metadata": {
        "colab": {
          "base_uri": "https://localhost:8080/"
        },
        "id": "5G8SlCZTZSWe",
        "outputId": "c5eb4c46-be14-49f2-fceb-554b10a7e305"
      },
      "source": [
        "for i in range(10,20):\n",
        "  if(i%2!=0):\n",
        "    print(i**2)"
      ],
      "execution_count": 12,
      "outputs": [
        {
          "output_type": "stream",
          "text": [
            "121\n",
            "169\n",
            "225\n",
            "289\n",
            "361\n"
          ],
          "name": "stdout"
        }
      ]
    },
    {
      "cell_type": "markdown",
      "metadata": {
        "id": "1bBowhNmaA27"
      },
      "source": [
        "**Program 8**\n",
        "\n",
        "Find obtained marks from which test ( test1 to test5)"
      ]
    },
    {
      "cell_type": "code",
      "metadata": {
        "colab": {
          "base_uri": "https://localhost:8080/"
        },
        "id": "0E_0HYTIZ88M",
        "outputId": "dd3cf917-b5dd-4102-8a36-50b80deb9861"
      },
      "source": [
        "marks_list=[65,75,2100,95,83]\n",
        "m=int(input(\"enter marks\"))\n",
        "for i in range(len(marks_list)):\n",
        "  if(marks_list[i]==m):\n",
        "    print(\"Test\"+str(i+1))\n",
        "    break"
      ],
      "execution_count": 22,
      "outputs": [
        {
          "output_type": "stream",
          "text": [
            "enter marks75\n",
            "Test2\n"
          ],
          "name": "stdout"
        }
      ]
    },
    {
      "cell_type": "code",
      "metadata": {
        "id": "nbcYgIn7b4-L"
      },
      "source": [
        ""
      ],
      "execution_count": null,
      "outputs": []
    }
  ]
}